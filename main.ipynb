{
 "cells": [
  {
   "cell_type": "code",
   "id": "initial_id",
   "metadata": {
    "collapsed": true,
    "ExecuteTime": {
     "end_time": "2025-03-02T19:44:36.006468Z",
     "start_time": "2025-03-02T19:44:34.725766Z"
    }
   },
   "source": [
    "import tensorflow as tf\n",
    "import matplotlib.pyplot as plt\n",
    "import numpy as np\n",
    "from keras.src.datasets.boston_housing import load_data\n",
    "from tensorflow.keras import layers, models\n",
    "from tensorflow.keras.datasets import cifar10\n",
    "from tensorflow.keras.utils import to_categorical\n",
    "from sklearn.metrics import confusion_matrix\n",
    "from abc import ABC, abstractmethod"
   ],
   "outputs": [],
   "execution_count": 15
  },
  {
   "metadata": {},
   "cell_type": "markdown",
   "source": "### Create DataSet Class",
   "id": "5eb3ac76e9a705e0"
  },
  {
   "metadata": {
    "ExecuteTime": {
     "end_time": "2025-03-02T20:06:33.493975Z",
     "start_time": "2025-03-02T20:06:33.490550Z"
    }
   },
   "cell_type": "code",
   "source": [
    "class LoadDataSet(ABC):\n",
    "    @abstractmethod\n",
    "    def load_data(self):\n",
    "        pass\n",
    "    \n",
    "class NormalizeDataSet(ABC):\n",
    "    @abstractmethod\n",
    "    def normalize_data(self):\n",
    "        pass\n",
    "    \n",
    "class EncodeDataSet(ABC):\n",
    "    @abstractmethod\n",
    "    def encode_data(self):\n",
    "        pass\n",
    "    \n",
    "    "
   ],
   "id": "b1cdd0c2f336802",
   "outputs": [],
   "execution_count": 21
  },
  {
   "metadata": {
    "ExecuteTime": {
     "end_time": "2025-03-02T20:07:45.157674Z",
     "start_time": "2025-03-02T20:07:45.152406Z"
    }
   },
   "cell_type": "code",
   "source": [
    "class CifarTenDataset(LoadDataSet,NormalizeDataSet,EncodeDataSet):\n",
    "    def __init__(self,normalize=True,encode=True):\n",
    "        self.normalize = normalize\n",
    "        self.encode = encode\n",
    "        self.load=False\n",
    "        self.train_images = None\n",
    "        self.test_images = None\n",
    "        self.train_labels = None\n",
    "        self.test_labels = None\n",
    "    \n",
    "    def load_data(self):\n",
    "        (train_images, train_labels), (test_images, test_labels)= cifar10.load_data()\n",
    "        self.train_images = train_images\n",
    "        self.test_images = test_images\n",
    "        self.train_labels = train_labels\n",
    "        self.test_labels = test_labels\n",
    "        self.load = True\n",
    "        return train_images, train_labels, test_images, test_labels\n",
    "    \n",
    "    def normalize_data(self):\n",
    "        if not self.normalize:\n",
    "            raise Exception(\"You are not allowed to normalize the data\")\n",
    "        if not self.load:\n",
    "            raise Exception(\"You are not allowed to load the data\")\n",
    "        self.train_images = (self.train_images.reshape((self.train_images.shape[0], 32, 32, 3))\n",
    "                        .astype('float32') / 255)\n",
    "        self.test_images = (self.test_images.reshape((self.test_images.shape[0], 32, 32, 3))\n",
    "                       .astype('float32') / 255)\n",
    "        \n",
    "        return self.train_images, self.train_labels, self.test_images, self.test_labels\n",
    "    \n",
    "    def encode_data(self):\n",
    "        if not self.encode:\n",
    "            raise Exception(\"You are not allowed to encode the data\")\n",
    "        if not self.load:\n",
    "            raise Exception(\"You are not allowed to load the data\")\n",
    "        \n",
    "        self.train_labels = to_categorical(self.train_labels)\n",
    "        self.test_labels = to_categorical(self.test_labels)\n",
    "        return self.train_images, self.train_labels, self.test_images, self.test_labels\n",
    "        \n",
    "    def load_and_preprocess_data(self):\n",
    "        self.load_data()\n",
    "        self.normalize_data()\n",
    "        train_images, train_labels, test_images, test_labels=self.encode_data()\n",
    "        return train_images, train_labels, test_images, test_labels\n",
    "        \n",
    "        \n",
    "    \n",
    "    "
   ],
   "id": "55202ef61cbb1b08",
   "outputs": [],
   "execution_count": 24
  }
 ],
 "metadata": {
  "kernelspec": {
   "display_name": "Python 3",
   "language": "python",
   "name": "python3"
  },
  "language_info": {
   "codemirror_mode": {
    "name": "ipython",
    "version": 2
   },
   "file_extension": ".py",
   "mimetype": "text/x-python",
   "name": "python",
   "nbconvert_exporter": "python",
   "pygments_lexer": "ipython2",
   "version": "2.7.6"
  }
 },
 "nbformat": 4,
 "nbformat_minor": 5
}
